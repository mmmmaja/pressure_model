{
 "cells": [
  {
   "cell_type": "code",
   "execution_count": 63,
   "outputs": [],
   "source": [
    "import os\n",
    "import cv2\n",
    "import numpy as np\n",
    "from sklearn.model_selection import train_test_split\n",
    "from keras.models import Sequential\n",
    "from keras.utils import to_categorical\n",
    "from keras.layers import Dense, Conv2D, Flatten, MaxPooling2D, Dropout, LSTM\n",
    "from keras.utils import plot_model\n",
    "from reading_manager import read_csv\n",
    "from keras.callbacks import EarlyStopping\n",
    "from keras import regularizers\n",
    "from matplotlib import pyplot as plt"
   ],
   "metadata": {
    "collapsed": false,
    "ExecuteTime": {
     "end_time": "2023-08-09T22:59:36.206366600Z",
     "start_time": "2023-08-09T22:59:36.201261800Z"
    }
   },
   "id": "f479d885f3149a57"
  },
  {
   "cell_type": "markdown",
   "source": [
    "## Analyzing model applications - machine learning"
   ],
   "metadata": {
    "collapsed": false
   },
   "id": "7b441ad1b284517a"
  },
  {
   "cell_type": "code",
   "execution_count": 2,
   "outputs": [],
   "source": [
    "# Set up the paths\n",
    "IMAGES_PATH = \"C:/Users/mjgoj/Documents/pressure_images\"\n",
    "RECORDINGS_PATH = \"C:/Users/mjgoj/Documents/artificial_recordings/recordings\""
   ],
   "metadata": {
    "collapsed": false,
    "ExecuteTime": {
     "end_time": "2023-08-09T22:37:12.411576500Z",
     "start_time": "2023-08-09T22:37:12.408326300Z"
    }
   },
   "id": "85cbbd190cb6a421"
  },
  {
   "cell_type": "markdown",
   "source": [
    "### 1. CNN"
   ],
   "metadata": {
    "collapsed": false
   },
   "id": "d9d71c1911f87cd0"
  },
  {
   "cell_type": "code",
   "execution_count": 3,
   "outputs": [
    {
     "name": "stdout",
     "output_type": "stream",
     "text": [
      "Shape (number of images, height, width): (2755, 54, 54)\n"
     ]
    }
   ],
   "source": [
    "# Read the images\n",
    "img_shape = (54, 54)\n",
    "X, Y = [], []\n",
    "\n",
    "for filename in os.listdir(IMAGES_PATH):\n",
    "    img = cv2.imread(os.path.join(IMAGES_PATH, filename), cv2.IMREAD_GRAYSCALE)\n",
    "    label = filename.split('_')[0]\n",
    "    if img is not None:\n",
    "        img = cv2.resize(img, img_shape)\n",
    "        X.append(img)\n",
    "        Y.append(label)\n",
    "        \n",
    "X = np.array(X)\n",
    "Y = to_categorical(np.array(Y))\n",
    "print('Shape (number of images, height, width):', X.shape)"
   ],
   "metadata": {
    "collapsed": false,
    "ExecuteTime": {
     "end_time": "2023-08-09T22:37:12.821265500Z",
     "start_time": "2023-08-09T22:37:12.411576500Z"
    }
   },
   "id": "71facc06c23f8ef0"
  },
  {
   "cell_type": "code",
   "execution_count": 4,
   "outputs": [
    {
     "name": "stdout",
     "output_type": "stream",
     "text": [
      "Train 2204 images : Test 551 images\n"
     ]
    }
   ],
   "source": [
    "# Split the images into train and test sets\n",
    "X_train, X_test, y_train, y_test = train_test_split(\n",
    "    X, Y, test_size=0.2, random_state=42\n",
    ")\n",
    "print('Train', y_train.shape[0], 'images : Test', y_test.shape[0], 'images')"
   ],
   "metadata": {
    "collapsed": false,
    "ExecuteTime": {
     "end_time": "2023-08-09T22:37:12.830667600Z",
     "start_time": "2023-08-09T22:37:12.821265500Z"
    }
   },
   "id": "32e2da5e4e58a5cd"
  },
  {
   "cell_type": "code",
   "execution_count": 5,
   "outputs": [],
   "source": [
    "# Create the CNN model\n",
    "\n",
    "# Create the input layer\n",
    "input_shape = (img_shape[0], img_shape[1], 1)\n",
    "model = Sequential()\n",
    "\n",
    "# 1st block\n",
    "# Add the first convolutional layer\n",
    "model.add(Conv2D(32, kernel_size=(3, 3), activation='relu', input_shape=input_shape))\n",
    "# Add the first pooling layer\n",
    "model.add(MaxPooling2D(pool_size=(2, 2)))\n",
    "\n",
    "# 2nd block\n",
    "# Add the second convolutional layer\n",
    "model.add(Conv2D(64, kernel_size=(3, 3), activation='relu'))\n",
    "# Add the second pooling layer\n",
    "model.add(MaxPooling2D(pool_size=(2, 2)))\n",
    "\n",
    "# 3rd block\n",
    "# Add the third convolutional layer\n",
    "model.add(Conv2D(128, kernel_size=(3, 3), activation='relu'))\n",
    "# Add the third pooling layer\n",
    "model.add(MaxPooling2D(pool_size=(2, 2)))\n",
    "\n",
    "# Add the fully connected layer and softmax output layer\n",
    "model.add(Flatten())\n",
    "model.add(Dense(Y.shape[1], activation='softmax'))\n",
    "# Output layer\n"
   ],
   "metadata": {
    "collapsed": false,
    "ExecuteTime": {
     "end_time": "2023-08-09T22:37:12.959680500Z",
     "start_time": "2023-08-09T22:37:12.835187700Z"
    }
   },
   "id": "cf7f3f44a2e3c7df"
  },
  {
   "cell_type": "code",
   "execution_count": 6,
   "outputs": [
    {
     "name": "stdout",
     "output_type": "stream",
     "text": [
      "You must install pydot (`pip install pydot`) and install graphviz (see instructions at https://graphviz.gitlab.io/download/) for plot_model to work.\n"
     ]
    }
   ],
   "source": [
    "plot_model(model, to_file='model.png', show_shapes=True, show_layer_names=True)"
   ],
   "metadata": {
    "collapsed": false,
    "ExecuteTime": {
     "end_time": "2023-08-09T22:37:12.982880200Z",
     "start_time": "2023-08-09T22:37:12.959680500Z"
    }
   },
   "id": "237de836b5e9c363"
  },
  {
   "cell_type": "code",
   "execution_count": 6,
   "outputs": [],
   "source": [],
   "metadata": {
    "collapsed": false,
    "ExecuteTime": {
     "end_time": "2023-08-09T22:37:12.982880200Z",
     "start_time": "2023-08-09T22:37:12.979869100Z"
    }
   },
   "id": "ff0cef35c7f9c270"
  },
  {
   "cell_type": "markdown",
   "source": [
    "### 2. LSTM"
   ],
   "metadata": {
    "collapsed": false
   },
   "id": "519f2ca3fa4f4b96"
  },
  {
   "cell_type": "code",
   "execution_count": 49,
   "outputs": [
    {
     "name": "stdout",
     "output_type": "stream",
     "text": [
      "cuboid\n",
      "cylinder\n",
      "sphere\n"
     ]
    }
   ],
   "source": [
    "# Read the recordings\n",
    "X, Y = [], []\n",
    "\n",
    "\n",
    "label = 0\n",
    "for directory in os.listdir(RECORDINGS_PATH):\n",
    "    print(directory)\n",
    "    for filename in os.listdir(os.path.join(RECORDINGS_PATH, directory)):\n",
    "        full_path = os.path.join(RECORDINGS_PATH, directory, filename)\n",
    "        # Read the csv file\n",
    "        sensor_positions, sensor_reading, time = read_csv(full_path)\n",
    "        # Reduce one dimension\n",
    "        sensor_reading = np.squeeze(sensor_reading)\n",
    "        # Add the data to the lists\n",
    "        X.append(sensor_reading)\n",
    "        Y.append(label)\n",
    "    label += 1"
   ],
   "metadata": {
    "collapsed": false,
    "ExecuteTime": {
     "end_time": "2023-08-09T22:52:12.430680900Z",
     "start_time": "2023-08-09T22:52:11.061449900Z"
    }
   },
   "id": "8233e7df0a0f6dfb"
  },
  {
   "cell_type": "code",
   "execution_count": 50,
   "outputs": [
    {
     "name": "stdout",
     "output_type": "stream",
     "text": [
      "Shape of the data (num_recordings, num_frames, num_sensors):  (81, 50, 144)\n",
      "Shape of the labels:  (81, 3)\n",
      "Train 64 recordings : Test 17 recordings\n"
     ]
    }
   ],
   "source": [
    "X = np.array(X)\n",
    "print('Shape of the data (num_recordings, num_frames, num_sensors): ', X.shape)\n",
    "\n",
    "Y = np.array(Y)\n",
    "Y = to_categorical(Y)\n",
    "print('Shape of the labels: ', Y.shape)\n",
    "\n",
    "# Split the data into train and test sets\n",
    "X_train, X_test, y_train, y_test = train_test_split(\n",
    "    X, Y, test_size=0.2, random_state=42\n",
    ")\n",
    "print('Train', y_train.shape[0], 'recordings : Test', y_test.shape[0], 'recordings')"
   ],
   "metadata": {
    "collapsed": false,
    "ExecuteTime": {
     "end_time": "2023-08-09T22:52:12.444297300Z",
     "start_time": "2023-08-09T22:52:12.430680900Z"
    }
   },
   "id": "1465ae5b63f3e1e0"
  },
  {
   "cell_type": "markdown",
   "source": [
    "### Create the LSTM model"
   ],
   "metadata": {
    "collapsed": false
   },
   "id": "c1447d2effbae37c"
  },
  {
   "cell_type": "code",
   "execution_count": 87,
   "outputs": [],
   "source": [
    "# Set the hyperparameters\n",
    "epochs = 120\n",
    "batch_size = 16\n",
    "units = 50\n",
    "dropout_rate = 0.5\n",
    "reg_lambda = 0.001  # Regularization factor\n",
    "\n",
    "model = Sequential()\n",
    "\n",
    "# 1st block\n",
    "# Add the first LSTM layer\n",
    "model.add(LSTM(\n",
    "    units=32, \n",
    "    input_shape=(X.shape[1], X.shape[2]),\n",
    "    kernel_regularizer=regularizers.l2(reg_lambda)\n",
    "))\n",
    "\n",
    "# Add the dropout layer\n",
    "model.add(Dropout(dropout_rate))\n",
    "\n",
    "model.add(Dense(\n",
    "    units=units, \n",
    "    activation='relu', \n",
    "    kernel_regularizer=regularizers.l2(reg_lambda))\n",
    ")\n",
    "\n",
    "model.add(Dense(units=Y.shape[1], activation='softmax'))"
   ],
   "metadata": {
    "collapsed": false,
    "ExecuteTime": {
     "end_time": "2023-08-09T23:08:13.476899500Z",
     "start_time": "2023-08-09T23:08:13.259954100Z"
    }
   },
   "id": "1a5f5c86ca2a7772"
  },
  {
   "cell_type": "code",
   "execution_count": 85,
   "outputs": [
    {
     "ename": "ValueError",
     "evalue": "This model has not yet been built. Build the model first by calling `build()` or by calling the model on a batch of data.",
     "output_type": "error",
     "traceback": [
      "\u001B[1;31m---------------------------------------------------------------------------\u001B[0m",
      "\u001B[1;31mValueError\u001B[0m                                Traceback (most recent call last)",
      "Cell \u001B[1;32mIn[85], line 1\u001B[0m\n\u001B[1;32m----> 1\u001B[0m \u001B[38;5;28mprint\u001B[39m(model\u001B[38;5;241m.\u001B[39msummary())\n\u001B[0;32m      2\u001B[0m plot_model(model, to_file\u001B[38;5;241m=\u001B[39m\u001B[38;5;124m'\u001B[39m\u001B[38;5;124mmodel.png\u001B[39m\u001B[38;5;124m'\u001B[39m, show_shapes\u001B[38;5;241m=\u001B[39m\u001B[38;5;28;01mTrue\u001B[39;00m, show_layer_names\u001B[38;5;241m=\u001B[39m\u001B[38;5;28;01mTrue\u001B[39;00m)\n",
      "File \u001B[1;32m~\\miniconda3\\Lib\\site-packages\\keras\\src\\engine\\training.py:3403\u001B[0m, in \u001B[0;36mModel.summary\u001B[1;34m(self, line_length, positions, print_fn, expand_nested, show_trainable, layer_range)\u001B[0m\n\u001B[0;32m   3372\u001B[0m \u001B[38;5;250m\u001B[39m\u001B[38;5;124;03m\"\"\"Prints a string summary of the network.\u001B[39;00m\n\u001B[0;32m   3373\u001B[0m \n\u001B[0;32m   3374\u001B[0m \u001B[38;5;124;03mArgs:\u001B[39;00m\n\u001B[1;32m   (...)\u001B[0m\n\u001B[0;32m   3400\u001B[0m \u001B[38;5;124;03m    ValueError: if `summary()` is called before the model is built.\u001B[39;00m\n\u001B[0;32m   3401\u001B[0m \u001B[38;5;124;03m\"\"\"\u001B[39;00m\n\u001B[0;32m   3402\u001B[0m \u001B[38;5;28;01mif\u001B[39;00m \u001B[38;5;129;01mnot\u001B[39;00m \u001B[38;5;28mself\u001B[39m\u001B[38;5;241m.\u001B[39mbuilt:\n\u001B[1;32m-> 3403\u001B[0m     \u001B[38;5;28;01mraise\u001B[39;00m \u001B[38;5;167;01mValueError\u001B[39;00m(\n\u001B[0;32m   3404\u001B[0m         \u001B[38;5;124m\"\u001B[39m\u001B[38;5;124mThis model has not yet been built. \u001B[39m\u001B[38;5;124m\"\u001B[39m\n\u001B[0;32m   3405\u001B[0m         \u001B[38;5;124m\"\u001B[39m\u001B[38;5;124mBuild the model first by calling `build()` or by calling \u001B[39m\u001B[38;5;124m\"\u001B[39m\n\u001B[0;32m   3406\u001B[0m         \u001B[38;5;124m\"\u001B[39m\u001B[38;5;124mthe model on a batch of data.\u001B[39m\u001B[38;5;124m\"\u001B[39m\n\u001B[0;32m   3407\u001B[0m     )\n\u001B[0;32m   3408\u001B[0m layer_utils\u001B[38;5;241m.\u001B[39mprint_summary(\n\u001B[0;32m   3409\u001B[0m     \u001B[38;5;28mself\u001B[39m,\n\u001B[0;32m   3410\u001B[0m     line_length\u001B[38;5;241m=\u001B[39mline_length,\n\u001B[1;32m   (...)\u001B[0m\n\u001B[0;32m   3415\u001B[0m     layer_range\u001B[38;5;241m=\u001B[39mlayer_range,\n\u001B[0;32m   3416\u001B[0m )\n",
      "\u001B[1;31mValueError\u001B[0m: This model has not yet been built. Build the model first by calling `build()` or by calling the model on a batch of data."
     ]
    }
   ],
   "source": [
    "print(model.summary())\n",
    "plot_model(model, to_file='model.png', show_shapes=True, show_layer_names=True)"
   ],
   "metadata": {
    "collapsed": false,
    "ExecuteTime": {
     "end_time": "2023-08-09T23:07:46.327499900Z",
     "start_time": "2023-08-09T23:07:45.950929100Z"
    }
   },
   "id": "2903177f4ee04540"
  },
  {
   "cell_type": "code",
   "execution_count": 61,
   "outputs": [
    {
     "name": "stdout",
     "output_type": "stream",
     "text": [
      "(81, 3)\n",
      "(81, 50, 144)\n"
     ]
    }
   ],
   "source": [
    "# Compile the model\n",
    "model.compile(\n",
    "    loss='categorical_crossentropy', \n",
    "    optimizer='adam', \n",
    "    metrics=['accuracy']\n",
    ")\n",
    "print(Y.shape)\n",
    "print(X.shape)\n",
    "\n",
    "# Define early stopping\n",
    "early_stopping = EarlyStopping(monitor='val_loss', patience=10)"
   ],
   "metadata": {
    "collapsed": false,
    "ExecuteTime": {
     "end_time": "2023-08-09T22:57:52.633514100Z",
     "start_time": "2023-08-09T22:57:52.612740600Z"
    }
   },
   "id": "cdc75b4a0536920e"
  },
  {
   "cell_type": "code",
   "execution_count": 62,
   "outputs": [
    {
     "name": "stdout",
     "output_type": "stream",
     "text": [
      "Epoch 1/120\n",
      "4/4 [==============================] - 3s 182ms/step - loss: 1.2679 - accuracy: 0.3281 - val_loss: 1.2614 - val_accuracy: 0.3529\n",
      "Epoch 2/120\n",
      "4/4 [==============================] - 0s 21ms/step - loss: 1.2559 - accuracy: 0.2969 - val_loss: 1.2513 - val_accuracy: 0.3529\n",
      "Epoch 3/120\n",
      "4/4 [==============================] - 0s 16ms/step - loss: 1.2447 - accuracy: 0.3750 - val_loss: 1.2416 - val_accuracy: 0.2353\n",
      "Epoch 4/120\n",
      "4/4 [==============================] - 0s 21ms/step - loss: 1.2341 - accuracy: 0.3438 - val_loss: 1.2317 - val_accuracy: 0.2353\n",
      "Epoch 5/120\n",
      "4/4 [==============================] - 0s 19ms/step - loss: 1.2241 - accuracy: 0.3438 - val_loss: 1.2226 - val_accuracy: 0.2353\n",
      "Epoch 6/120\n",
      "4/4 [==============================] - 0s 16ms/step - loss: 1.2137 - accuracy: 0.3438 - val_loss: 1.2145 - val_accuracy: 0.2353\n",
      "Epoch 7/120\n",
      "4/4 [==============================] - 0s 21ms/step - loss: 1.2058 - accuracy: 0.3594 - val_loss: 1.2074 - val_accuracy: 0.2353\n",
      "Epoch 8/120\n",
      "4/4 [==============================] - 0s 26ms/step - loss: 1.1983 - accuracy: 0.3594 - val_loss: 1.2003 - val_accuracy: 0.2353\n",
      "Epoch 9/120\n",
      "4/4 [==============================] - 0s 20ms/step - loss: 1.1918 - accuracy: 0.3594 - val_loss: 1.1937 - val_accuracy: 0.2353\n",
      "Epoch 10/120\n",
      "4/4 [==============================] - 0s 21ms/step - loss: 1.1832 - accuracy: 0.3594 - val_loss: 1.1877 - val_accuracy: 0.2353\n",
      "Epoch 11/120\n",
      "4/4 [==============================] - 0s 16ms/step - loss: 1.1762 - accuracy: 0.3594 - val_loss: 1.1820 - val_accuracy: 0.2353\n",
      "Epoch 12/120\n",
      "4/4 [==============================] - 0s 21ms/step - loss: 1.1714 - accuracy: 0.3594 - val_loss: 1.1769 - val_accuracy: 0.2353\n",
      "Epoch 13/120\n",
      "4/4 [==============================] - 0s 21ms/step - loss: 1.1671 - accuracy: 0.3594 - val_loss: 1.1722 - val_accuracy: 0.2353\n",
      "Epoch 14/120\n",
      "4/4 [==============================] - 0s 21ms/step - loss: 1.1595 - accuracy: 0.3594 - val_loss: 1.1684 - val_accuracy: 0.2353\n",
      "Epoch 15/120\n",
      "4/4 [==============================] - 0s 20ms/step - loss: 1.1587 - accuracy: 0.3594 - val_loss: 1.1646 - val_accuracy: 0.2353\n",
      "Epoch 16/120\n",
      "4/4 [==============================] - 0s 21ms/step - loss: 1.1510 - accuracy: 0.3594 - val_loss: 1.1603 - val_accuracy: 0.2353\n",
      "Epoch 17/120\n",
      "4/4 [==============================] - 0s 17ms/step - loss: 1.1454 - accuracy: 0.3594 - val_loss: 1.1569 - val_accuracy: 0.2353\n",
      "Epoch 18/120\n",
      "4/4 [==============================] - 0s 23ms/step - loss: 1.1436 - accuracy: 0.3594 - val_loss: 1.1546 - val_accuracy: 0.2353\n",
      "Epoch 19/120\n",
      "4/4 [==============================] - 0s 20ms/step - loss: 1.1413 - accuracy: 0.3594 - val_loss: 1.1516 - val_accuracy: 0.2353\n",
      "Epoch 20/120\n",
      "4/4 [==============================] - 0s 20ms/step - loss: 1.1383 - accuracy: 0.3594 - val_loss: 1.1487 - val_accuracy: 0.2353\n",
      "Epoch 21/120\n",
      "4/4 [==============================] - 0s 19ms/step - loss: 1.1352 - accuracy: 0.3594 - val_loss: 1.1471 - val_accuracy: 0.2353\n",
      "Epoch 22/120\n",
      "4/4 [==============================] - 0s 20ms/step - loss: 1.1309 - accuracy: 0.3594 - val_loss: 1.1449 - val_accuracy: 0.2353\n",
      "Epoch 23/120\n",
      "4/4 [==============================] - 0s 19ms/step - loss: 1.1295 - accuracy: 0.3594 - val_loss: 1.1427 - val_accuracy: 0.2353\n",
      "Epoch 24/120\n",
      "4/4 [==============================] - 0s 18ms/step - loss: 1.1281 - accuracy: 0.3594 - val_loss: 1.1405 - val_accuracy: 0.2353\n",
      "Epoch 25/120\n",
      "4/4 [==============================] - 0s 16ms/step - loss: 1.1267 - accuracy: 0.3594 - val_loss: 1.1390 - val_accuracy: 0.2353\n",
      "Epoch 26/120\n",
      "4/4 [==============================] - 0s 21ms/step - loss: 1.1234 - accuracy: 0.3594 - val_loss: 1.1377 - val_accuracy: 0.2353\n",
      "Epoch 27/120\n",
      "4/4 [==============================] - 0s 21ms/step - loss: 1.1231 - accuracy: 0.3594 - val_loss: 1.1358 - val_accuracy: 0.2353\n",
      "Epoch 28/120\n",
      "4/4 [==============================] - 0s 20ms/step - loss: 1.1188 - accuracy: 0.3594 - val_loss: 1.1346 - val_accuracy: 0.2353\n",
      "Epoch 29/120\n",
      "4/4 [==============================] - 0s 18ms/step - loss: 1.1182 - accuracy: 0.3594 - val_loss: 1.1337 - val_accuracy: 0.2353\n",
      "Epoch 30/120\n",
      "4/4 [==============================] - 0s 21ms/step - loss: 1.1173 - accuracy: 0.3594 - val_loss: 1.1322 - val_accuracy: 0.2353\n",
      "Epoch 31/120\n",
      "4/4 [==============================] - 0s 21ms/step - loss: 1.1161 - accuracy: 0.3594 - val_loss: 1.1324 - val_accuracy: 0.2353\n",
      "Epoch 32/120\n",
      "4/4 [==============================] - 0s 21ms/step - loss: 1.1167 - accuracy: 0.3594 - val_loss: 1.1309 - val_accuracy: 0.2353\n",
      "Epoch 33/120\n",
      "4/4 [==============================] - 0s 23ms/step - loss: 1.1113 - accuracy: 0.3594 - val_loss: 1.1288 - val_accuracy: 0.2353\n",
      "Epoch 34/120\n",
      "4/4 [==============================] - 0s 19ms/step - loss: 1.1149 - accuracy: 0.3594 - val_loss: 1.1275 - val_accuracy: 0.2353\n",
      "Epoch 35/120\n",
      "4/4 [==============================] - 0s 20ms/step - loss: 1.1134 - accuracy: 0.3594 - val_loss: 1.1267 - val_accuracy: 0.2353\n",
      "Epoch 36/120\n",
      "4/4 [==============================] - 0s 19ms/step - loss: 1.1140 - accuracy: 0.3594 - val_loss: 1.1254 - val_accuracy: 0.2353\n",
      "Epoch 37/120\n",
      "4/4 [==============================] - 0s 19ms/step - loss: 1.1097 - accuracy: 0.3594 - val_loss: 1.1251 - val_accuracy: 0.2353\n",
      "Epoch 38/120\n",
      "4/4 [==============================] - 0s 19ms/step - loss: 1.1096 - accuracy: 0.3594 - val_loss: 1.1246 - val_accuracy: 0.2353\n",
      "Epoch 39/120\n",
      "4/4 [==============================] - 0s 21ms/step - loss: 1.1054 - accuracy: 0.3594 - val_loss: 1.1251 - val_accuracy: 0.2353\n",
      "Epoch 40/120\n",
      "4/4 [==============================] - 0s 20ms/step - loss: 1.1107 - accuracy: 0.3594 - val_loss: 1.1254 - val_accuracy: 0.2353\n",
      "Epoch 41/120\n",
      "4/4 [==============================] - 0s 21ms/step - loss: 1.1091 - accuracy: 0.3594 - val_loss: 1.1246 - val_accuracy: 0.2353\n",
      "Epoch 42/120\n",
      "4/4 [==============================] - 0s 21ms/step - loss: 1.1063 - accuracy: 0.3594 - val_loss: 1.1234 - val_accuracy: 0.2353\n",
      "Epoch 43/120\n",
      "4/4 [==============================] - 0s 21ms/step - loss: 1.1071 - accuracy: 0.3594 - val_loss: 1.1234 - val_accuracy: 0.2353\n",
      "Epoch 44/120\n",
      "4/4 [==============================] - 0s 22ms/step - loss: 1.1085 - accuracy: 0.3594 - val_loss: 1.1227 - val_accuracy: 0.2353\n",
      "Epoch 45/120\n",
      "4/4 [==============================] - 0s 22ms/step - loss: 1.1061 - accuracy: 0.3594 - val_loss: 1.1225 - val_accuracy: 0.2353\n",
      "Epoch 46/120\n",
      "4/4 [==============================] - 0s 18ms/step - loss: 1.1017 - accuracy: 0.3594 - val_loss: 1.1236 - val_accuracy: 0.2353\n",
      "Epoch 47/120\n",
      "4/4 [==============================] - 0s 20ms/step - loss: 1.1041 - accuracy: 0.3594 - val_loss: 1.1239 - val_accuracy: 0.2353\n",
      "Epoch 48/120\n",
      "4/4 [==============================] - 0s 21ms/step - loss: 1.1039 - accuracy: 0.3594 - val_loss: 1.1251 - val_accuracy: 0.2353\n",
      "Epoch 49/120\n",
      "4/4 [==============================] - 0s 21ms/step - loss: 1.1037 - accuracy: 0.3594 - val_loss: 1.1262 - val_accuracy: 0.2353\n",
      "Epoch 50/120\n",
      "4/4 [==============================] - 0s 16ms/step - loss: 1.1117 - accuracy: 0.3594 - val_loss: 1.1257 - val_accuracy: 0.2353\n",
      "Epoch 51/120\n",
      "4/4 [==============================] - 0s 21ms/step - loss: 1.1040 - accuracy: 0.3594 - val_loss: 1.1238 - val_accuracy: 0.2353\n",
      "Epoch 52/120\n",
      "4/4 [==============================] - 0s 16ms/step - loss: 1.1078 - accuracy: 0.3594 - val_loss: 1.1229 - val_accuracy: 0.2353\n",
      "Epoch 53/120\n",
      "4/4 [==============================] - 0s 21ms/step - loss: 1.1055 - accuracy: 0.3594 - val_loss: 1.1209 - val_accuracy: 0.2353\n",
      "Epoch 54/120\n",
      "4/4 [==============================] - 0s 16ms/step - loss: 1.1040 - accuracy: 0.3594 - val_loss: 1.1193 - val_accuracy: 0.2353\n",
      "Epoch 55/120\n",
      "4/4 [==============================] - 0s 21ms/step - loss: 1.1050 - accuracy: 0.3594 - val_loss: 1.1187 - val_accuracy: 0.2353\n",
      "Epoch 56/120\n",
      "4/4 [==============================] - 0s 21ms/step - loss: 1.1007 - accuracy: 0.3594 - val_loss: 1.1178 - val_accuracy: 0.2353\n",
      "Epoch 57/120\n",
      "4/4 [==============================] - 0s 21ms/step - loss: 1.1032 - accuracy: 0.3594 - val_loss: 1.1180 - val_accuracy: 0.2353\n",
      "Epoch 58/120\n",
      "4/4 [==============================] - 0s 21ms/step - loss: 1.1027 - accuracy: 0.3594 - val_loss: 1.1178 - val_accuracy: 0.2353\n",
      "Epoch 59/120\n",
      "4/4 [==============================] - 0s 21ms/step - loss: 1.1066 - accuracy: 0.3594 - val_loss: 1.1173 - val_accuracy: 0.2353\n",
      "Epoch 60/120\n",
      "4/4 [==============================] - 0s 21ms/step - loss: 1.1045 - accuracy: 0.3594 - val_loss: 1.1173 - val_accuracy: 0.2353\n",
      "Epoch 61/120\n",
      "4/4 [==============================] - 0s 21ms/step - loss: 1.1015 - accuracy: 0.3594 - val_loss: 1.1171 - val_accuracy: 0.2353\n",
      "Epoch 62/120\n",
      "4/4 [==============================] - 0s 16ms/step - loss: 1.1030 - accuracy: 0.3594 - val_loss: 1.1167 - val_accuracy: 0.2353\n",
      "Epoch 63/120\n",
      "4/4 [==============================] - 0s 21ms/step - loss: 1.1026 - accuracy: 0.3594 - val_loss: 1.1164 - val_accuracy: 0.2353\n",
      "Epoch 64/120\n",
      "4/4 [==============================] - 0s 21ms/step - loss: 1.1021 - accuracy: 0.3594 - val_loss: 1.1159 - val_accuracy: 0.2353\n",
      "Epoch 65/120\n",
      "4/4 [==============================] - 0s 21ms/step - loss: 1.1050 - accuracy: 0.3594 - val_loss: 1.1159 - val_accuracy: 0.2353\n",
      "Epoch 66/120\n",
      "4/4 [==============================] - 0s 21ms/step - loss: 1.1045 - accuracy: 0.3594 - val_loss: 1.1157 - val_accuracy: 0.2353\n",
      "Epoch 67/120\n",
      "4/4 [==============================] - 0s 21ms/step - loss: 1.1002 - accuracy: 0.3594 - val_loss: 1.1156 - val_accuracy: 0.2353\n",
      "Epoch 68/120\n",
      "4/4 [==============================] - 0s 21ms/step - loss: 1.1000 - accuracy: 0.3594 - val_loss: 1.1158 - val_accuracy: 0.2353\n",
      "Epoch 69/120\n",
      "4/4 [==============================] - 0s 17ms/step - loss: 1.1043 - accuracy: 0.3594 - val_loss: 1.1160 - val_accuracy: 0.2353\n",
      "Epoch 70/120\n",
      "4/4 [==============================] - 0s 21ms/step - loss: 1.1016 - accuracy: 0.3594 - val_loss: 1.1155 - val_accuracy: 0.2353\n",
      "Epoch 71/120\n",
      "4/4 [==============================] - 0s 16ms/step - loss: 1.1013 - accuracy: 0.3594 - val_loss: 1.1158 - val_accuracy: 0.2353\n",
      "Epoch 72/120\n",
      "4/4 [==============================] - 0s 21ms/step - loss: 1.1030 - accuracy: 0.3594 - val_loss: 1.1153 - val_accuracy: 0.2353\n",
      "Epoch 73/120\n",
      "4/4 [==============================] - 0s 16ms/step - loss: 1.1015 - accuracy: 0.3594 - val_loss: 1.1149 - val_accuracy: 0.2353\n",
      "Epoch 74/120\n",
      "4/4 [==============================] - 0s 21ms/step - loss: 1.1017 - accuracy: 0.3594 - val_loss: 1.1150 - val_accuracy: 0.2353\n",
      "Epoch 75/120\n",
      "4/4 [==============================] - 0s 16ms/step - loss: 1.1017 - accuracy: 0.3594 - val_loss: 1.1150 - val_accuracy: 0.2353\n",
      "Epoch 76/120\n",
      "4/4 [==============================] - 0s 21ms/step - loss: 1.0995 - accuracy: 0.3594 - val_loss: 1.1153 - val_accuracy: 0.2353\n",
      "Epoch 77/120\n",
      "4/4 [==============================] - 0s 21ms/step - loss: 1.1006 - accuracy: 0.3594 - val_loss: 1.1157 - val_accuracy: 0.2353\n",
      "Epoch 78/120\n",
      "4/4 [==============================] - 0s 21ms/step - loss: 1.0992 - accuracy: 0.3594 - val_loss: 1.1154 - val_accuracy: 0.2353\n",
      "Epoch 79/120\n",
      "4/4 [==============================] - 0s 21ms/step - loss: 1.1002 - accuracy: 0.3594 - val_loss: 1.1162 - val_accuracy: 0.2353\n",
      "Epoch 80/120\n",
      "4/4 [==============================] - 0s 21ms/step - loss: 1.1017 - accuracy: 0.3594 - val_loss: 1.1169 - val_accuracy: 0.2353\n",
      "Epoch 81/120\n",
      "4/4 [==============================] - 0s 16ms/step - loss: 1.1000 - accuracy: 0.3594 - val_loss: 1.1171 - val_accuracy: 0.2353\n",
      "Epoch 82/120\n",
      "4/4 [==============================] - 0s 21ms/step - loss: 1.1011 - accuracy: 0.3594 - val_loss: 1.1181 - val_accuracy: 0.2353\n",
      "Epoch 83/120\n",
      "4/4 [==============================] - 0s 18ms/step - loss: 1.1000 - accuracy: 0.3594 - val_loss: 1.1185 - val_accuracy: 0.2353\n"
     ]
    }
   ],
   "source": [
    "# Train the model\n",
    "history = model.fit(\n",
    "    X_train, y_train, \n",
    "    epochs=epochs, \n",
    "    batch_size=batch_size, \n",
    "    validation_data=(X_test, y_test), \n",
    "    callbacks=[early_stopping])"
   ],
   "metadata": {
    "collapsed": false,
    "ExecuteTime": {
     "end_time": "2023-08-09T22:58:26.834784200Z",
     "start_time": "2023-08-09T22:58:18.156650600Z"
    }
   },
   "id": "c99ecd981175695c"
  },
  {
   "cell_type": "code",
   "execution_count": 82,
   "outputs": [],
   "source": [
    "def plot_training_history(_history, metrics='accuracy'):\n",
    "    \n",
    "    train_color = '#0bb4ff'\n",
    "    val_color = '#dc0ab4'\n",
    "    \n",
    "    # Plot the training history\n",
    "    plt.plot(history.history[metrics], label='Training ' + metrics, color=train_color)\n",
    "    # Add the trend line\n",
    "    z_train = np.polyfit(\n",
    "        np.arange(len(history.history[metrics])), \n",
    "        history.history[metrics], \n",
    "        deg=1\n",
    "    )\n",
    "    p_train = np.poly1d(z_train)\n",
    "    plt.plot(\n",
    "        np.arange(len(history.history[metrics])), \n",
    "        p_train(np.arange(len(history.history[metrics]))), \n",
    "        linestyle='--',\n",
    "        color=train_color\n",
    "    )\n",
    "    \n",
    "    # Plot the validation history\n",
    "    plt.plot(history.history['val_' + metrics], label='Validation ' + metrics, color=val_color)\n",
    "    # Add the trend line\n",
    "    z_val = np.polyfit(\n",
    "        np.arange(len(history.history['val_' + metrics])), \n",
    "        history.history['val_' + metrics], \n",
    "        deg=1\n",
    "    )\n",
    "    p_val = np.poly1d(z_val)\n",
    "    plt.plot(\n",
    "        np.arange(len(history.history['val_' + metrics])), \n",
    "        p_val(np.arange(len(history.history['val_' + metrics]))), \n",
    "        linestyle='--',\n",
    "        color=val_color\n",
    "    )\n",
    "    \n",
    "    plt.legend()\n",
    "    \n",
    "    # Add the labels\n",
    "    plt.title('Training and validation ' + metrics)\n",
    "    plt.xlabel('Epochs')\n",
    "    plt.ylabel(metrics)\n",
    "    \n",
    "    plt.show()"
   ],
   "metadata": {
    "collapsed": false,
    "ExecuteTime": {
     "end_time": "2023-08-09T23:07:09.062739700Z",
     "start_time": "2023-08-09T23:07:09.061234200Z"
    }
   },
   "id": "66c6dd156547d78"
  },
  {
   "cell_type": "code",
   "execution_count": 83,
   "outputs": [
    {
     "data": {
      "text/plain": "<Figure size 640x480 with 1 Axes>",
      "image/png": "[encoded data removed]"
     },
     "metadata": {},
     "output_type": "display_data"
    }
   ],
   "source": [
    "plot_training_history(history, metrics='accuracy')"
   ],
   "metadata": {
    "collapsed": false,
    "ExecuteTime": {
     "end_time": "2023-08-09T23:07:09.912456700Z",
     "start_time": "2023-08-09T23:07:09.739756200Z"
    }
   },
   "id": "f29fff0dba99c693"
  },
  {
   "cell_type": "code",
   "execution_count": null,
   "outputs": [],
   "source": [],
   "metadata": {
    "collapsed": false
   },
   "id": "64e5979b2d5cf08f"
  }
 ],
 "metadata": {
  "kernelspec": {
   "display_name": "Python 3",
   "language": "python",
   "name": "python3"
  },
  "language_info": {
   "codemirror_mode": {
    "name": "ipython",
    "version": 2
   },
   "file_extension": ".py",
   "mimetype": "text/x-python",
   "name": "python",
   "nbconvert_exporter": "python",
   "pygments_lexer": "ipython2",
   "version": "2.7.6"
  }
 },
 "nbformat": 4,
 "nbformat_minor": 5
}
